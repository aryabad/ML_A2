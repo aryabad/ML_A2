{
 "cells": [
  {
   "cell_type": "markdown",
   "metadata": {},
   "source": [
    "---\n",
    "# <div align=\"center\"><font color='green'> COSC 2673/2793 |  Machine Learning | Assignment 1 </font></div>\n",
    "## <div align=\"center\"> <font color='red'> Student Name:    Arya and Vaibhav                           </font></div>\n",
    "## <div align=\"center\"> <font color='red'> Student number:                            </font></div>\n",
    "---"
   ]
  },
  {
   "cell_type": "markdown",
   "metadata": {},
   "source": [
    "# Problem statement\n",
    "\n",
    "your problem statement goes here\n",
    "\n"
   ]
  },
  {
   "cell_type": "markdown",
   "metadata": {},
   "source": [
    "## Data Splitting, and EDA\n",
    "\n",
    " 1) Load yur data\n",
    " 2) Split your Data, explain why and how.\n",
    " 3) Perform EDA and explain what each step represents. You need to perform EDA with respect to at leats one of the target values: TARGET_Capacity, or\tTARGET_CaseCount.\n",
    " \n",
    "\n"
   ]
  },
  {
   "cell_type": "code",
   "execution_count": null,
   "metadata": {},
   "outputs": [],
   "source": [
    "import pandas as pd\n",
    "import matplotlib.pyplot as plt\n",
    "import numpy as np\n",
    "\n",
    "## TODO\n",
    "## three above steps\n"
   ]
  },
  {
   "cell_type": "markdown",
   "metadata": {},
   "source": [
    "### EDA result Analysis and deriven conclusion\n",
    "Explain what you have observed from the output of your EDA"
   ]
  },
  {
   "cell_type": "markdown",
   "metadata": {},
   "source": [
    "\n",
    "## Data Pre- Processing\n",
    "\n",
    "Data preprocessing includes Normalisation or Standarisation, and PCA"
   ]
  },
  {
   "cell_type": "code",
   "execution_count": 1,
   "metadata": {},
   "outputs": [],
   "source": [
    "## TODO\n",
    "# You will have a train and test\n",
    "# then you generate train_S or Train_N for standrarised or/and normalised train, then the same thing for the test\n",
    "# then you create trian_pca, and test_pca\n",
    "# you will use all these sets to generate your experiments later on"
   ]
  },
  {
   "cell_type": "markdown",
   "metadata": {},
   "source": [
    "# Baseline development (Linear regression and Poisson Regression)\n",
    "\n",
    "Please note that both Linear Regression and Poisson Regression are examples of generalized linear models. Therefore, when you are asked to run linear regression for TARGET_Capacity prediction, it is the same as asking you to select a generalized linear model for your given task. Similarly for Poisson regression.\n",
    "\n",
    "Note: You also need to balance model complexity with model performance using regularization. Explain how and why.\n",
    "\n",
    "### Performance metrics selection\n",
    "\n",
    "Explain the selection of performance metrics for each task in detail, including your justification.\n",
    "\n",
    "### Parameter tuning\n",
    "\n",
    "Explain the process of parameter tuning for each task in detail, including your justification.\n",
    "\n",
    "Note: You also need to balance model complexity with model performance. Explain how and why."
   ]
  },
  {
   "cell_type": "code",
   "execution_count": null,
   "metadata": {},
   "outputs": [],
   "source": [
    "## TODO\n",
    "## You need to run this code, so the output is displayed bellow\n"
   ]
  },
  {
   "cell_type": "markdown",
   "metadata": {},
   "source": [
    "<span style=\"font-size:1.5em;\">�</span> What observations did you make?\n",
    "\n",
    "> <span style=\"font-size:1em;\">✔</span> **Observations:** \n"
   ]
  },
  {
   "cell_type": "markdown",
   "metadata": {},
   "source": [
    "## Polynomila regression regression only for TARGET_Capacity prediction\n",
    "\n",
    "### performance metrics selection\n",
    "Explain all the above for each task in detail, don't forget to include justification\n",
    "\n",
    "### Parameter tunning\n",
    "Explain all the above for each task in detail, don't forget to include justification\n",
    "\n",
    "Note: You need to also balance the model complexity with model performence, explain how and why"
   ]
  },
  {
   "cell_type": "code",
   "execution_count": null,
   "metadata": {},
   "outputs": [],
   "source": [
    "## TODO\n",
    "## You need to run this code, so the output is displayed bellow"
   ]
  },
  {
   "cell_type": "markdown",
   "metadata": {},
   "source": [
    "<span style=\"font-size:1.5em;\">�</span> What observations did you make?\n",
    "\n",
    "> <span style=\"font-size:1em;\">✔</span> **Observations:** "
   ]
  },
  {
   "cell_type": "markdown",
   "metadata": {},
   "source": [
    "### You can add any other analysis you want with justification here (adding code and markdown)"
   ]
  },
  {
   "cell_type": "code",
   "execution_count": null,
   "metadata": {},
   "outputs": [],
   "source": []
  }
 ],
 "metadata": {
  "kernelspec": {
   "display_name": "Python 3 (ipykernel)",
   "language": "python",
   "name": "python3"
  },
  "language_info": {
   "codemirror_mode": {
    "name": "ipython",
    "version": 3
   },
   "file_extension": ".py",
   "mimetype": "text/x-python",
   "name": "python",
   "nbconvert_exporter": "python",
   "pygments_lexer": "ipython3",
   "version": "3.7.16"
  }
 },
 "nbformat": 4,
 "nbformat_minor": 4
}
