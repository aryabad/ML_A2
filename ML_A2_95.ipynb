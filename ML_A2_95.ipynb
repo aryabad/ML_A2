{
 "cells": [
  {
   "cell_type": "markdown",
   "id": "d1ab7dc5",
   "metadata": {},
   "source": [
    "# Machine Learning (COSC2673)\n",
    "\n",
    "\n",
    "## Assignment 2: Machine Learning Project\n",
    "## Project 1 - Classify Images of Colon Cancer\n",
    "\n",
    "\n",
    "### Arya Baddam - (s4054024)\n",
    "\n",
    "\n",
    "### Vaibhav Jain - (s3950267)\n",
    "\n",
    "\n",
    "#### Group 95"
   ]
  },
  {
   "cell_type": "markdown",
   "id": "5fd260c3",
   "metadata": {},
   "source": [
    "Problem Statement:\n",
    "\n",
    "Our goal is to develop a machine learning system that can classify histopathology images of colon cells based on whether the cell is **cancerous** (`isCancerous`) and to find out what **cell type** it belongs to: `epithelial`, `fibroblast`, `inflammatory`, or `others`"
   ]
  },
  {
   "cell_type": "markdown",
   "id": "c42cc7ed",
   "metadata": {},
   "source": [
    "# TASK 1:"
   ]
  },
  {
   "cell_type": "code",
   "execution_count": 5,
   "id": "da7b91cf",
   "metadata": {},
   "outputs": [],
   "source": [
    "import pandas as pd\n",
    "import numpy as np\n",
    "import os\n",
    "import matplotlib.pyplot as plt\n",
    "import seaborn as sns"
   ]
  },
  {
   "cell_type": "code",
   "execution_count": 6,
   "id": "65a456b3",
   "metadata": {},
   "outputs": [],
   "source": [
    "from PIL import Image\n",
    "from sklearn.model_selection import train_test_split, RandomizedSearchCV\n",
    "from sklearn.preprocessing import LabelEncoder, StandardScaler, Normalizer\n",
    "from sklearn.decomposition import PCA\n",
    "from sklearn.ensemble import RandomForestClassifier\n",
    "from sklearn.linear_model import LogisticRegression\n",
    "from sklearn.metrics import classification_report, confusion_matrix"
   ]
  },
  {
   "cell_type": "code",
   "execution_count": 7,
   "id": "6382a2d6",
   "metadata": {},
   "outputs": [],
   "source": [
    "# This code loads both of the label files\n",
    "main_data = pd.read_csv(\"Image_classification_data/data_labels_mainData.csv\")\n",
    "extra_data = pd.read_csv(\"Image_classification_data/data_labels_extraData.csv\")"
   ]
  },
  {
   "cell_type": "code",
   "execution_count": 11,
   "id": "1ca5100e",
   "metadata": {},
   "outputs": [
    {
     "data": {
      "text/html": [
       "<div>\n",
       "<style scoped>\n",
       "    .dataframe tbody tr th:only-of-type {\n",
       "        vertical-align: middle;\n",
       "    }\n",
       "\n",
       "    .dataframe tbody tr th {\n",
       "        vertical-align: top;\n",
       "    }\n",
       "\n",
       "    .dataframe thead th {\n",
       "        text-align: right;\n",
       "    }\n",
       "</style>\n",
       "<table border=\"1\" class=\"dataframe\">\n",
       "  <thead>\n",
       "    <tr style=\"text-align: right;\">\n",
       "      <th></th>\n",
       "      <th>InstanceID</th>\n",
       "      <th>patientID</th>\n",
       "      <th>ImageName</th>\n",
       "      <th>cellTypeName</th>\n",
       "      <th>cellType</th>\n",
       "      <th>isCancerous</th>\n",
       "    </tr>\n",
       "  </thead>\n",
       "  <tbody>\n",
       "    <tr>\n",
       "      <th>0</th>\n",
       "      <td>22405</td>\n",
       "      <td>1</td>\n",
       "      <td>22405.png</td>\n",
       "      <td>fibroblast</td>\n",
       "      <td>0</td>\n",
       "      <td>0</td>\n",
       "    </tr>\n",
       "    <tr>\n",
       "      <th>1</th>\n",
       "      <td>22406</td>\n",
       "      <td>1</td>\n",
       "      <td>22406.png</td>\n",
       "      <td>fibroblast</td>\n",
       "      <td>0</td>\n",
       "      <td>0</td>\n",
       "    </tr>\n",
       "    <tr>\n",
       "      <th>2</th>\n",
       "      <td>22407</td>\n",
       "      <td>1</td>\n",
       "      <td>22407.png</td>\n",
       "      <td>fibroblast</td>\n",
       "      <td>0</td>\n",
       "      <td>0</td>\n",
       "    </tr>\n",
       "    <tr>\n",
       "      <th>3</th>\n",
       "      <td>22408</td>\n",
       "      <td>1</td>\n",
       "      <td>22408.png</td>\n",
       "      <td>fibroblast</td>\n",
       "      <td>0</td>\n",
       "      <td>0</td>\n",
       "    </tr>\n",
       "    <tr>\n",
       "      <th>4</th>\n",
       "      <td>22409</td>\n",
       "      <td>1</td>\n",
       "      <td>22409.png</td>\n",
       "      <td>fibroblast</td>\n",
       "      <td>0</td>\n",
       "      <td>0</td>\n",
       "    </tr>\n",
       "    <tr>\n",
       "      <th>...</th>\n",
       "      <td>...</td>\n",
       "      <td>...</td>\n",
       "      <td>...</td>\n",
       "      <td>...</td>\n",
       "      <td>...</td>\n",
       "      <td>...</td>\n",
       "    </tr>\n",
       "    <tr>\n",
       "      <th>9891</th>\n",
       "      <td>1625</td>\n",
       "      <td>60</td>\n",
       "      <td>1625.png</td>\n",
       "      <td>epithelial</td>\n",
       "      <td>2</td>\n",
       "      <td>1</td>\n",
       "    </tr>\n",
       "    <tr>\n",
       "      <th>9892</th>\n",
       "      <td>1626</td>\n",
       "      <td>60</td>\n",
       "      <td>1626.png</td>\n",
       "      <td>epithelial</td>\n",
       "      <td>2</td>\n",
       "      <td>1</td>\n",
       "    </tr>\n",
       "    <tr>\n",
       "      <th>9893</th>\n",
       "      <td>1627</td>\n",
       "      <td>60</td>\n",
       "      <td>1627.png</td>\n",
       "      <td>epithelial</td>\n",
       "      <td>2</td>\n",
       "      <td>1</td>\n",
       "    </tr>\n",
       "    <tr>\n",
       "      <th>9894</th>\n",
       "      <td>1628</td>\n",
       "      <td>60</td>\n",
       "      <td>1628.png</td>\n",
       "      <td>epithelial</td>\n",
       "      <td>2</td>\n",
       "      <td>1</td>\n",
       "    </tr>\n",
       "    <tr>\n",
       "      <th>9895</th>\n",
       "      <td>1629</td>\n",
       "      <td>60</td>\n",
       "      <td>1629.png</td>\n",
       "      <td>epithelial</td>\n",
       "      <td>2</td>\n",
       "      <td>1</td>\n",
       "    </tr>\n",
       "  </tbody>\n",
       "</table>\n",
       "<p>9896 rows × 6 columns</p>\n",
       "</div>"
      ],
      "text/plain": [
       "      InstanceID  patientID  ImageName cellTypeName  cellType  isCancerous\n",
       "0          22405          1  22405.png   fibroblast         0            0\n",
       "1          22406          1  22406.png   fibroblast         0            0\n",
       "2          22407          1  22407.png   fibroblast         0            0\n",
       "3          22408          1  22408.png   fibroblast         0            0\n",
       "4          22409          1  22409.png   fibroblast         0            0\n",
       "...          ...        ...        ...          ...       ...          ...\n",
       "9891        1625         60   1625.png   epithelial         2            1\n",
       "9892        1626         60   1626.png   epithelial         2            1\n",
       "9893        1627         60   1627.png   epithelial         2            1\n",
       "9894        1628         60   1628.png   epithelial         2            1\n",
       "9895        1629         60   1629.png   epithelial         2            1\n",
       "\n",
       "[9896 rows x 6 columns]"
      ]
     },
     "execution_count": 11,
     "metadata": {},
     "output_type": "execute_result"
    }
   ],
   "source": [
    "main_data"
   ]
  },
  {
   "cell_type": "code",
   "execution_count": 12,
   "id": "3270cd27",
   "metadata": {},
   "outputs": [
    {
     "data": {
      "text/html": [
       "<div>\n",
       "<style scoped>\n",
       "    .dataframe tbody tr th:only-of-type {\n",
       "        vertical-align: middle;\n",
       "    }\n",
       "\n",
       "    .dataframe tbody tr th {\n",
       "        vertical-align: top;\n",
       "    }\n",
       "\n",
       "    .dataframe thead th {\n",
       "        text-align: right;\n",
       "    }\n",
       "</style>\n",
       "<table border=\"1\" class=\"dataframe\">\n",
       "  <thead>\n",
       "    <tr style=\"text-align: right;\">\n",
       "      <th></th>\n",
       "      <th>InstanceID</th>\n",
       "      <th>patientID</th>\n",
       "      <th>ImageName</th>\n",
       "      <th>isCancerous</th>\n",
       "    </tr>\n",
       "  </thead>\n",
       "  <tbody>\n",
       "    <tr>\n",
       "      <th>0</th>\n",
       "      <td>12681</td>\n",
       "      <td>61</td>\n",
       "      <td>12681.png</td>\n",
       "      <td>0</td>\n",
       "    </tr>\n",
       "    <tr>\n",
       "      <th>1</th>\n",
       "      <td>12682</td>\n",
       "      <td>61</td>\n",
       "      <td>12682.png</td>\n",
       "      <td>0</td>\n",
       "    </tr>\n",
       "    <tr>\n",
       "      <th>2</th>\n",
       "      <td>12683</td>\n",
       "      <td>61</td>\n",
       "      <td>12683.png</td>\n",
       "      <td>0</td>\n",
       "    </tr>\n",
       "    <tr>\n",
       "      <th>3</th>\n",
       "      <td>12684</td>\n",
       "      <td>61</td>\n",
       "      <td>12684.png</td>\n",
       "      <td>0</td>\n",
       "    </tr>\n",
       "    <tr>\n",
       "      <th>4</th>\n",
       "      <td>12685</td>\n",
       "      <td>61</td>\n",
       "      <td>12685.png</td>\n",
       "      <td>0</td>\n",
       "    </tr>\n",
       "    <tr>\n",
       "      <th>...</th>\n",
       "      <td>...</td>\n",
       "      <td>...</td>\n",
       "      <td>...</td>\n",
       "      <td>...</td>\n",
       "    </tr>\n",
       "    <tr>\n",
       "      <th>10379</th>\n",
       "      <td>20028</td>\n",
       "      <td>99</td>\n",
       "      <td>20028.png</td>\n",
       "      <td>0</td>\n",
       "    </tr>\n",
       "    <tr>\n",
       "      <th>10380</th>\n",
       "      <td>20029</td>\n",
       "      <td>99</td>\n",
       "      <td>20029.png</td>\n",
       "      <td>0</td>\n",
       "    </tr>\n",
       "    <tr>\n",
       "      <th>10381</th>\n",
       "      <td>20030</td>\n",
       "      <td>99</td>\n",
       "      <td>20030.png</td>\n",
       "      <td>0</td>\n",
       "    </tr>\n",
       "    <tr>\n",
       "      <th>10382</th>\n",
       "      <td>20031</td>\n",
       "      <td>99</td>\n",
       "      <td>20031.png</td>\n",
       "      <td>0</td>\n",
       "    </tr>\n",
       "    <tr>\n",
       "      <th>10383</th>\n",
       "      <td>20032</td>\n",
       "      <td>99</td>\n",
       "      <td>20032.png</td>\n",
       "      <td>0</td>\n",
       "    </tr>\n",
       "  </tbody>\n",
       "</table>\n",
       "<p>10384 rows × 4 columns</p>\n",
       "</div>"
      ],
      "text/plain": [
       "       InstanceID  patientID  ImageName  isCancerous\n",
       "0           12681         61  12681.png            0\n",
       "1           12682         61  12682.png            0\n",
       "2           12683         61  12683.png            0\n",
       "3           12684         61  12684.png            0\n",
       "4           12685         61  12685.png            0\n",
       "...           ...        ...        ...          ...\n",
       "10379       20028         99  20028.png            0\n",
       "10380       20029         99  20029.png            0\n",
       "10381       20030         99  20030.png            0\n",
       "10382       20031         99  20031.png            0\n",
       "10383       20032         99  20032.png            0\n",
       "\n",
       "[10384 rows x 4 columns]"
      ]
     },
     "execution_count": 12,
     "metadata": {},
     "output_type": "execute_result"
    }
   ],
   "source": [
    "extra_data"
   ]
  },
  {
   "cell_type": "code",
   "execution_count": 8,
   "id": "89ad62a7",
   "metadata": {},
   "outputs": [],
   "source": [
    "IMAGE_DIR = \"Image_classification_data/patch_images/\""
   ]
  },
  {
   "cell_type": "markdown",
   "id": "3bd8f1dc",
   "metadata": {},
   "source": [
    "### Exploratory Data Analysis"
   ]
  },
  {
   "cell_type": "code",
   "execution_count": 9,
   "id": "048997db",
   "metadata": {},
   "outputs": [
    {
     "data": {
      "image/png": "[encoded data removed]",
      "text/plain": [
       "<Figure size 640x480 with 1 Axes>"
      ]
     },
     "metadata": {},
     "output_type": "display_data"
    }
   ],
   "source": [
    "# Visualising class imbalance\n",
    "sns.countplot(data=main_data, x='isCancerous')\n",
    "plt.title(\"isCancerous Class Distribution\")\n",
    "plt.xticks([0, 1], [\"Not Cancerous\", \"Cancerous\"])\n",
    "plt.show()"
   ]
  },
  {
   "cell_type": "code",
   "execution_count": 10,
   "id": "02b0759e",
   "metadata": {},
   "outputs": [
    {
     "data": {
      "image/png": "[encoded data removed]",
      "text/plain": [
       "<Figure size 640x480 with 1 Axes>"
      ]
     },
     "metadata": {},
     "output_type": "display_data"
    }
   ],
   "source": [
    "sns.countplot(data=main_data, x='cellTypeName', order=main_data['cellTypeName'].value_counts().index)\n",
    "plt.title(\"Cell Type Distribution\")\n",
    "plt.xticks(rotation=30)\n",
    "plt.show()"
   ]
  },
  {
   "cell_type": "markdown",
   "id": "e9cc75ad",
   "metadata": {},
   "source": [
    "### Image Loader"
   ]
  },
  {
   "cell_type": "code",
   "execution_count": 13,
   "id": "efbe109f",
   "metadata": {},
   "outputs": [],
   "source": [
    "def load_images(df, label_col, image_col='ImageName', image_dir=IMAGE_DIR):\n",
    "    X, y = [], []\n",
    "    for _, row in df.iterrows():\n",
    "        img_path = os.path.join(image_dir, row[image_col])\n",
    "        if os.path.exists(img_path):\n",
    "            img = Image.open(img_path).convert('RGB').resize((27, 27))\n",
    "            X.append(np.array(img).flatten())\n",
    "            y.append(row[label_col])\n",
    "    return np.array(X), np.array(y)"
   ]
  },
  {
   "cell_type": "markdown",
   "id": "b01d5f3b",
   "metadata": {},
   "source": [
    "### Binary Classification - isCancerous"
   ]
  },
  {
   "cell_type": "code",
   "execution_count": 14,
   "id": "f27707e6",
   "metadata": {},
   "outputs": [],
   "source": [
    "X_cancer, y_cancer = load_images(main_data, label_col='isCancerous')\n",
    "image_names = main_data['ImageName'].values"
   ]
  },
  {
   "cell_type": "code",
   "execution_count": 15,
   "id": "18ebdb7f",
   "metadata": {},
   "outputs": [],
   "source": [
    "# Train/Test split\n",
    "X_train_c, X_test_c, y_train_c, y_test_c, name_train, name_test = train_test_split(\n",
    "    X_cancer, y_cancer, image_names, test_size=0.2, stratify=y_cancer, random_state=42)"
   ]
  },
  {
   "cell_type": "code",
   "execution_count": 16,
   "id": "3218831f",
   "metadata": {},
   "outputs": [],
   "source": [
    "# Train Random Forest\n",
    "rf_model = RandomForestClassifier(n_estimators=100, random_state=42)\n",
    "rf_model.fit(X_train_c, y_train_c)\n",
    "y_pred_c = rf_model.predict(X_test_c)"
   ]
  },
  {
   "cell_type": "code",
   "execution_count": 17,
   "id": "c956a019",
   "metadata": {},
   "outputs": [
    {
     "name": "stdout",
     "output_type": "stream",
     "text": [
      "Random Forest - Binary Classification (isCancerous)\n",
      "              precision    recall  f1-score   support\n",
      "\n",
      "           0       0.88      0.92      0.90      1164\n",
      "           1       0.87      0.82      0.85       816\n",
      "\n",
      "    accuracy                           0.88      1980\n",
      "   macro avg       0.88      0.87      0.87      1980\n",
      "weighted avg       0.88      0.88      0.88      1980\n",
      "\n"
     ]
    },
    {
     "data": {
      "image/png": "[encoded data removed]",
      "text/plain": [
       "<Figure size 640x480 with 2 Axes>"
      ]
     },
     "metadata": {},
     "output_type": "display_data"
    }
   ],
   "source": [
    "# Evaluation\n",
    "print(\"Random Forest - Binary Classification (isCancerous)\")\n",
    "print(classification_report(y_test_c, y_pred_c))\n",
    "sns.heatmap(confusion_matrix(y_test_c, y_pred_c), annot=True, fmt='d', cmap='Blues')\n",
    "plt.title(\"Confusion Matrix - isCancerous\")\n",
    "plt.xlabel(\"Predicted\")\n",
    "plt.ylabel(\"Actual\")\n",
    "plt.show()"
   ]
  },
  {
   "cell_type": "markdown",
   "id": "d734284e",
   "metadata": {},
   "source": [
    "### Multi-Class Classification - cellTypeName"
   ]
  },
  {
   "cell_type": "code",
   "execution_count": 18,
   "id": "ce444c49",
   "metadata": {},
   "outputs": [],
   "source": [
    "X_type, y_type = load_images(main_data, label_col='cellTypeName')\n",
    "le = LabelEncoder()\n",
    "y_type_encoded = le.fit_transform(y_type)\n",
    "image_names_type = main_data['ImageName'].values"
   ]
  },
  {
   "cell_type": "code",
   "execution_count": 19,
   "id": "3e62dce2",
   "metadata": {},
   "outputs": [],
   "source": [
    "X_train_t, X_test_t, y_train_t, y_test_t, name_train_t, name_test_t = train_test_split(\n",
    "    X_type, y_type_encoded, image_names_type, test_size=0.2, stratify=y_type_encoded, random_state=42)"
   ]
  },
  {
   "cell_type": "code",
   "execution_count": 20,
   "id": "5727dd90",
   "metadata": {},
   "outputs": [],
   "source": [
    "rf_type = RandomForestClassifier(n_estimators=100, random_state=42)\n",
    "rf_type.fit(X_train_t, y_train_t)\n",
    "y_pred_t = rf_type.predict(X_test_t)"
   ]
  },
  {
   "cell_type": "code",
   "execution_count": 27,
   "id": "8ca6b849",
   "metadata": {},
   "outputs": [
    {
     "name": "stdout",
     "output_type": "stream",
     "text": [
      "Random Forest - Multiclass Classification of (cellTypeName)\n",
      "              precision    recall  f1-score   support\n",
      "\n",
      "  epithelial       0.76      0.92      0.84       816\n",
      "  fibroblast       0.64      0.58      0.61       378\n",
      "inflammatory       0.63      0.78      0.69       509\n",
      "      others       0.79      0.08      0.14       277\n",
      "\n",
      "    accuracy                           0.70      1980\n",
      "   macro avg       0.70      0.59      0.57      1980\n",
      "weighted avg       0.71      0.70      0.66      1980\n",
      "\n"
     ]
    },
    {
     "data": {
      "image/png": "[encoded data removed]",
      "text/plain": [
       "<Figure size 640x480 with 2 Axes>"
      ]
     },
     "metadata": {},
     "output_type": "display_data"
    }
   ],
   "source": [
    "print(\"Random Forest - Multiclass Classification of (cellTypeName)\")\n",
    "print(classification_report(y_test_t, y_pred_t, target_names=le.classes_))\n",
    "sns.heatmap(confusion_matrix(y_test_t, y_pred_t), annot=True, fmt='d', cmap='Purples',\n",
    "            xticklabels=le.classes_, yticklabels=le.classes_)\n",
    "plt.title(\"Confusion Matrix - cellTypeName\")\n",
    "plt.xlabel(\"Predicted\")\n",
    "plt.ylabel(\"Actual\")\n",
    "plt.show()"
   ]
  },
  {
   "cell_type": "markdown",
   "id": "a9e639ca",
   "metadata": {},
   "source": [
    "### Boosted Model Evaluation using data_labels_extraData.csv"
   ]
  },
  {
   "cell_type": "code",
   "execution_count": 31,
   "id": "f643daea",
   "metadata": {},
   "outputs": [],
   "source": [
    "combined_df = pd.concat([main_data[['ImageName', 'isCancerous']], extra_data[['ImageName', 'isCancerous']]])\n",
    "X_boost, y_boost = load_images(combined_df, label_col='isCancerous')"
   ]
  },
  {
   "cell_type": "code",
   "execution_count": 32,
   "id": "bbcd4bb0",
   "metadata": {},
   "outputs": [],
   "source": [
    "X_train_b, X_test_b, y_train_b, y_test_b = train_test_split(X_boost, y_boost, test_size=0.2, stratify=y_boost, random_state=42)\n",
    "boosted_model = RandomForestClassifier(n_estimators=100, random_state=42)\n",
    "boosted_model.fit(X_train_b, y_train_b)\n",
    "y_pred_b = boosted_model.predict(X_test_b)"
   ]
  },
  {
   "cell_type": "code",
   "execution_count": 33,
   "id": "63e3ef9c",
   "metadata": {},
   "outputs": [
    {
     "name": "stdout",
     "output_type": "stream",
     "text": [
      "Boosted Model Evaluation (with data_labels_extraData.csv)\n",
      "              precision    recall  f1-score   support\n",
      "\n",
      "           0       0.86      0.93      0.90      2642\n",
      "           1       0.85      0.73      0.78      1414\n",
      "\n",
      "    accuracy                           0.86      4056\n",
      "   macro avg       0.86      0.83      0.84      4056\n",
      "weighted avg       0.86      0.86      0.86      4056\n",
      "\n"
     ]
    },
    {
     "data": {
      "image/png": "[encoded data removed]",
      "text/plain": [
       "<Figure size 640x480 with 2 Axes>"
      ]
     },
     "metadata": {},
     "output_type": "display_data"
    }
   ],
   "source": [
    "print(\"Boosted Model Evaluation (with data_labels_extraData.csv)\")\n",
    "print(classification_report(y_test_b, y_pred_b))\n",
    "sns.heatmap(confusion_matrix(y_test_b, y_pred_b), annot=True, fmt='d', cmap='Greens')\n",
    "plt.title(\"Boosted Model Confusion Matrix - isCancerous\")\n",
    "plt.show()"
   ]
  },
  {
   "cell_type": "markdown",
   "id": "ca544173",
   "metadata": {},
   "source": [
    "### Data Preprocessing and PCA"
   ]
  },
  {
   "cell_type": "code",
   "execution_count": 35,
   "id": "3a5d9ea7",
   "metadata": {},
   "outputs": [],
   "source": [
    "scaler = StandardScaler()\n",
    "X_train_std = scaler.fit_transform(X_train_c)\n",
    "X_test_std = scaler.transform(X_test_c)"
   ]
  },
  {
   "cell_type": "code",
   "execution_count": 36,
   "id": "c74d3c44",
   "metadata": {},
   "outputs": [],
   "source": [
    "normalizer = Normalizer()\n",
    "X_train_norm = normalizer.fit_transform(X_train_c)\n",
    "X_test_norm = normalizer.transform(X_test_c)"
   ]
  },
  {
   "cell_type": "code",
   "execution_count": 37,
   "id": "d826c619",
   "metadata": {},
   "outputs": [],
   "source": [
    "pca = PCA(n_components=50)\n",
    "X_train_pca = pca.fit_transform(X_train_std)\n",
    "X_test_pca = pca.transform(X_test_std)\n"
   ]
  },
  {
   "cell_type": "code",
   "execution_count": 38,
   "id": "a1fada76",
   "metadata": {},
   "outputs": [
    {
     "name": "stdout",
     "output_type": "stream",
     "text": [
      "PCA shape: (7916, 50)\n"
     ]
    }
   ],
   "source": [
    "print(f\"PCA shape: {X_train_pca.shape}\")"
   ]
  },
  {
   "cell_type": "markdown",
   "id": "060893d9",
   "metadata": {},
   "source": [
    "### Logistic Regression Baseline"
   ]
  },
  {
   "cell_type": "code",
   "execution_count": 39,
   "id": "dcdb391e",
   "metadata": {},
   "outputs": [],
   "source": [
    "log_model = LogisticRegression(max_iter=1000)\n",
    "log_model.fit(X_train_std, y_train_c)\n",
    "y_pred_log = log_model.predict(X_test_std)"
   ]
  },
  {
   "cell_type": "code",
   "execution_count": 40,
   "id": "3db74838",
   "metadata": {},
   "outputs": [
    {
     "name": "stdout",
     "output_type": "stream",
     "text": [
      "Logistic Regression - isCancerous\n",
      "              precision    recall  f1-score   support\n",
      "\n",
      "           0       0.87      0.84      0.86      1164\n",
      "           1       0.79      0.83      0.81       816\n",
      "\n",
      "    accuracy                           0.84      1980\n",
      "   macro avg       0.83      0.84      0.83      1980\n",
      "weighted avg       0.84      0.84      0.84      1980\n",
      "\n"
     ]
    }
   ],
   "source": [
    "print(\"Logistic Regression - isCancerous\")\n",
    "print(classification_report(y_test_c, y_pred_log))"
   ]
  },
  {
   "cell_type": "markdown",
   "id": "f684101b",
   "metadata": {},
   "source": [
    "### Hyperparameter Tuning (RandomizedSearchCV)"
   ]
  },
  {
   "cell_type": "code",
   "execution_count": 41,
   "id": "f6f520d4",
   "metadata": {},
   "outputs": [],
   "source": [
    "param_grid = {\n",
    "    'n_estimators': [50, 100, 150],\n",
    "    'max_depth': [10, 20, None],\n",
    "    'min_samples_split': [2, 5]\n",
    "}"
   ]
  },
  {
   "cell_type": "code",
   "execution_count": 43,
   "id": "e1ddb47b",
   "metadata": {},
   "outputs": [],
   "source": [
    "rand_search = RandomizedSearchCV(\n",
    "    estimator=RandomForestClassifier(random_state=42),\n",
    "    param_distributions=param_grid,\n",
    "    n_iter=5,\n",
    "    cv=3,\n",
    "    scoring='f1_macro',\n",
    "    n_jobs=-1,\n",
    "    verbose=2\n",
    ")"
   ]
  },
  {
   "cell_type": "code",
   "execution_count": 44,
   "id": "3c7d4a64",
   "metadata": {},
   "outputs": [
    {
     "name": "stdout",
     "output_type": "stream",
     "text": [
      "Fitting 3 folds for each of 5 candidates, totalling 15 fits\n",
      "[CV] END max_depth=None, min_samples_split=2, n_estimators=100; total time=  29.1s\n",
      "[CV] END max_depth=None, min_samples_split=2, n_estimators=150; total time=  43.3s\n",
      "[CV] END max_depth=None, min_samples_split=2, n_estimators=150; total time=  44.2s\n",
      "[CV] END max_depth=None, min_samples_split=2, n_estimators=150; total time=  44.3s\n",
      "[CV] END .max_depth=20, min_samples_split=2, n_estimators=50; total time=  13.7s\n",
      "[CV] END max_depth=None, min_samples_split=2, n_estimators=100; total time=  28.8s\n",
      "[CV] END .max_depth=20, min_samples_split=2, n_estimators=50; total time=  13.8s\n",
      "[CV] END .max_depth=10, min_samples_split=5, n_estimators=50; total time=  10.7s\n",
      "[CV] END .max_depth=10, min_samples_split=5, n_estimators=50; total time=  10.7s\n",
      "[CV] END max_depth=None, min_samples_split=2, n_estimators=100; total time=  28.3s\n",
      "[CV] END .max_depth=20, min_samples_split=2, n_estimators=50; total time=  13.9s\n",
      "[CV] END .max_depth=10, min_samples_split=5, n_estimators=50; total time=  11.1s\n",
      "[CV] END max_depth=20, min_samples_split=2, n_estimators=150; total time=  36.2s\n",
      "[CV] END max_depth=20, min_samples_split=2, n_estimators=150; total time=  35.4s\n",
      "[CV] END max_depth=20, min_samples_split=2, n_estimators=150; total time=  35.7s\n",
      "Best Params: {'n_estimators': 150, 'min_samples_split': 2, 'max_depth': None}\n",
      "Best F1 Score: 0.8649\n"
     ]
    }
   ],
   "source": [
    "rand_search.fit(X_train_c, y_train_c)\n",
    "print(f\"Best Params: {rand_search.best_params_}\")\n",
    "print(f\"Best F1 Score: {rand_search.best_score_:.4f}\")"
   ]
  },
  {
   "cell_type": "markdown",
   "id": "39144cfe",
   "metadata": {},
   "source": [
    "### Export Predictions to CSV"
   ]
  },
  {
   "cell_type": "code",
   "execution_count": null,
   "id": "f6e019e1",
   "metadata": {},
   "outputs": [],
   "source": [
    "# Binary\n",
    "results_cancer = pd.DataFrame({\n",
    "    \"ImageName\": name_test,\n",
    "    \"Actual_isCancerous\": y_test_c,\n",
    "    \"Predicted_isCancerous\": y_pred_c\n",
    "})\n",
    "results_cancer.to_csv(\"results_isCancerous.csv\", index=False)"
   ]
  },
  {
   "cell_type": "code",
   "execution_count": 46,
   "id": "41338f1a",
   "metadata": {},
   "outputs": [],
   "source": [
    "# Multiclass\n",
    "actual_types = le.inverse_transform(y_test_t)\n",
    "predicted_types = le.inverse_transform(y_pred_t)"
   ]
  },
  {
   "cell_type": "code",
   "execution_count": 47,
   "id": "9aef9bc5",
   "metadata": {},
   "outputs": [],
   "source": [
    "results_type = pd.DataFrame({\n",
    "    \"ImageName\": name_test_t,\n",
    "    \"Actual_cellTypeName\": actual_types,\n",
    "    \"Predicted_cellTypeName\": predicted_types\n",
    "})\n",
    "results_type.to_csv(\"results_cellTypeName.csv\", index=False)"
   ]
  },
  {
   "cell_type": "code",
   "execution_count": 51,
   "id": "d38dc76b",
   "metadata": {},
   "outputs": [
    {
     "data": {
      "text/html": [
       "<div>\n",
       "<style scoped>\n",
       "    .dataframe tbody tr th:only-of-type {\n",
       "        vertical-align: middle;\n",
       "    }\n",
       "\n",
       "    .dataframe tbody tr th {\n",
       "        vertical-align: top;\n",
       "    }\n",
       "\n",
       "    .dataframe thead th {\n",
       "        text-align: right;\n",
       "    }\n",
       "</style>\n",
       "<table border=\"1\" class=\"dataframe\">\n",
       "  <thead>\n",
       "    <tr style=\"text-align: right;\">\n",
       "      <th></th>\n",
       "      <th>ImageName</th>\n",
       "      <th>Actual_cellTypeName</th>\n",
       "      <th>Predicted_cellTypeName</th>\n",
       "    </tr>\n",
       "  </thead>\n",
       "  <tbody>\n",
       "    <tr>\n",
       "      <th>0</th>\n",
       "      <td>3075.png</td>\n",
       "      <td>epithelial</td>\n",
       "      <td>epithelial</td>\n",
       "    </tr>\n",
       "    <tr>\n",
       "      <th>1</th>\n",
       "      <td>8212.png</td>\n",
       "      <td>epithelial</td>\n",
       "      <td>epithelial</td>\n",
       "    </tr>\n",
       "    <tr>\n",
       "      <th>2</th>\n",
       "      <td>10037.png</td>\n",
       "      <td>others</td>\n",
       "      <td>epithelial</td>\n",
       "    </tr>\n",
       "    <tr>\n",
       "      <th>3</th>\n",
       "      <td>18369.png</td>\n",
       "      <td>inflammatory</td>\n",
       "      <td>inflammatory</td>\n",
       "    </tr>\n",
       "    <tr>\n",
       "      <th>4</th>\n",
       "      <td>71.png</td>\n",
       "      <td>inflammatory</td>\n",
       "      <td>inflammatory</td>\n",
       "    </tr>\n",
       "    <tr>\n",
       "      <th>...</th>\n",
       "      <td>...</td>\n",
       "      <td>...</td>\n",
       "      <td>...</td>\n",
       "    </tr>\n",
       "    <tr>\n",
       "      <th>1975</th>\n",
       "      <td>9476.png</td>\n",
       "      <td>epithelial</td>\n",
       "      <td>epithelial</td>\n",
       "    </tr>\n",
       "    <tr>\n",
       "      <th>1976</th>\n",
       "      <td>7785.png</td>\n",
       "      <td>fibroblast</td>\n",
       "      <td>fibroblast</td>\n",
       "    </tr>\n",
       "    <tr>\n",
       "      <th>1977</th>\n",
       "      <td>21182.png</td>\n",
       "      <td>inflammatory</td>\n",
       "      <td>inflammatory</td>\n",
       "    </tr>\n",
       "    <tr>\n",
       "      <th>1978</th>\n",
       "      <td>12006.png</td>\n",
       "      <td>fibroblast</td>\n",
       "      <td>inflammatory</td>\n",
       "    </tr>\n",
       "    <tr>\n",
       "      <th>1979</th>\n",
       "      <td>7837.png</td>\n",
       "      <td>inflammatory</td>\n",
       "      <td>inflammatory</td>\n",
       "    </tr>\n",
       "  </tbody>\n",
       "</table>\n",
       "<p>1980 rows × 3 columns</p>\n",
       "</div>"
      ],
      "text/plain": [
       "      ImageName Actual_cellTypeName Predicted_cellTypeName\n",
       "0      3075.png          epithelial             epithelial\n",
       "1      8212.png          epithelial             epithelial\n",
       "2     10037.png              others             epithelial\n",
       "3     18369.png        inflammatory           inflammatory\n",
       "4        71.png        inflammatory           inflammatory\n",
       "...         ...                 ...                    ...\n",
       "1975   9476.png          epithelial             epithelial\n",
       "1976   7785.png          fibroblast             fibroblast\n",
       "1977  21182.png        inflammatory           inflammatory\n",
       "1978  12006.png          fibroblast           inflammatory\n",
       "1979   7837.png        inflammatory           inflammatory\n",
       "\n",
       "[1980 rows x 3 columns]"
      ]
     },
     "execution_count": 51,
     "metadata": {},
     "output_type": "execute_result"
    }
   ],
   "source": [
    "celltype = pd.read_csv(\"results_cellTypeName.csv\")\n",
    "celltype"
   ]
  },
  {
   "cell_type": "code",
   "execution_count": 53,
   "id": "609aa43e",
   "metadata": {},
   "outputs": [
    {
     "data": {
      "text/html": [
       "<div>\n",
       "<style scoped>\n",
       "    .dataframe tbody tr th:only-of-type {\n",
       "        vertical-align: middle;\n",
       "    }\n",
       "\n",
       "    .dataframe tbody tr th {\n",
       "        vertical-align: top;\n",
       "    }\n",
       "\n",
       "    .dataframe thead th {\n",
       "        text-align: right;\n",
       "    }\n",
       "</style>\n",
       "<table border=\"1\" class=\"dataframe\">\n",
       "  <thead>\n",
       "    <tr style=\"text-align: right;\">\n",
       "      <th></th>\n",
       "      <th>ImageName</th>\n",
       "      <th>Actual_isCancerous</th>\n",
       "      <th>Predicted_isCancerous</th>\n",
       "    </tr>\n",
       "  </thead>\n",
       "  <tbody>\n",
       "    <tr>\n",
       "      <th>0</th>\n",
       "      <td>20195.png</td>\n",
       "      <td>0</td>\n",
       "      <td>0</td>\n",
       "    </tr>\n",
       "    <tr>\n",
       "      <th>1</th>\n",
       "      <td>9073.png</td>\n",
       "      <td>0</td>\n",
       "      <td>0</td>\n",
       "    </tr>\n",
       "    <tr>\n",
       "      <th>2</th>\n",
       "      <td>16942.png</td>\n",
       "      <td>0</td>\n",
       "      <td>0</td>\n",
       "    </tr>\n",
       "    <tr>\n",
       "      <th>3</th>\n",
       "      <td>11935.png</td>\n",
       "      <td>1</td>\n",
       "      <td>1</td>\n",
       "    </tr>\n",
       "    <tr>\n",
       "      <th>4</th>\n",
       "      <td>18591.png</td>\n",
       "      <td>0</td>\n",
       "      <td>0</td>\n",
       "    </tr>\n",
       "    <tr>\n",
       "      <th>...</th>\n",
       "      <td>...</td>\n",
       "      <td>...</td>\n",
       "      <td>...</td>\n",
       "    </tr>\n",
       "    <tr>\n",
       "      <th>1975</th>\n",
       "      <td>3115.png</td>\n",
       "      <td>1</td>\n",
       "      <td>1</td>\n",
       "    </tr>\n",
       "    <tr>\n",
       "      <th>1976</th>\n",
       "      <td>18880.png</td>\n",
       "      <td>0</td>\n",
       "      <td>0</td>\n",
       "    </tr>\n",
       "    <tr>\n",
       "      <th>1977</th>\n",
       "      <td>401.png</td>\n",
       "      <td>0</td>\n",
       "      <td>0</td>\n",
       "    </tr>\n",
       "    <tr>\n",
       "      <th>1978</th>\n",
       "      <td>8724.png</td>\n",
       "      <td>1</td>\n",
       "      <td>1</td>\n",
       "    </tr>\n",
       "    <tr>\n",
       "      <th>1979</th>\n",
       "      <td>592.png</td>\n",
       "      <td>1</td>\n",
       "      <td>0</td>\n",
       "    </tr>\n",
       "  </tbody>\n",
       "</table>\n",
       "<p>1980 rows × 3 columns</p>\n",
       "</div>"
      ],
      "text/plain": [
       "      ImageName  Actual_isCancerous  Predicted_isCancerous\n",
       "0     20195.png                   0                      0\n",
       "1      9073.png                   0                      0\n",
       "2     16942.png                   0                      0\n",
       "3     11935.png                   1                      1\n",
       "4     18591.png                   0                      0\n",
       "...         ...                 ...                    ...\n",
       "1975   3115.png                   1                      1\n",
       "1976  18880.png                   0                      0\n",
       "1977    401.png                   0                      0\n",
       "1978   8724.png                   1                      1\n",
       "1979    592.png                   1                      0\n",
       "\n",
       "[1980 rows x 3 columns]"
      ]
     },
     "execution_count": 53,
     "metadata": {},
     "output_type": "execute_result"
    }
   ],
   "source": [
    "is_cancer = pd.read_csv(\"results_isCancerous.csv\")\n",
    "is_cancer"
   ]
  },
  {
   "cell_type": "markdown",
   "id": "7dd665f0",
   "metadata": {},
   "source": [
    "# Conclusion and other information"
   ]
  },
  {
   "cell_type": "markdown",
   "id": "c91535a7",
   "metadata": {},
   "source": []
  }
 ],
 "metadata": {
  "kernelspec": {
   "display_name": "base",
   "language": "python",
   "name": "python3"
  },
  "language_info": {
   "codemirror_mode": {
    "name": "ipython",
    "version": 3
   },
   "file_extension": ".py",
   "mimetype": "text/x-python",
   "name": "python",
   "nbconvert_exporter": "python",
   "pygments_lexer": "ipython3",
   "version": "3.11.9"
  }
 },
 "nbformat": 4,
 "nbformat_minor": 5
}
